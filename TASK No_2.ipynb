{
 "cells": [
  {
   "cell_type": "code",
   "execution_count": 4,
   "metadata": {
    "id": "VMr1Bj4MEB_X"
   },
   "outputs": [],
   "source": [
    "import pandas as  pd\n",
    "import numpy as np\n",
    "df1=pd.read_csv('ae.csv')\n",
    "df2=pd.read_csv('cm.csv')\n",
    "\n"
   ]
  },
  {
   "cell_type": "code",
   "execution_count": 5,
   "metadata": {
    "colab": {
     "base_uri": "https://localhost:8080/"
    },
    "id": "Jrb20f4JG7kF",
    "outputId": "aab2df89-5b56-4ec9-b200-c890a2e4d312"
   },
   "outputs": [
    {
     "name": "stdout",
     "output_type": "stream",
     "text": [
      "<class 'pandas.core.frame.DataFrame'>\n",
      "RangeIndex: 27 entries, 0 to 26\n",
      "Data columns (total 96 columns):\n",
      " #   Column                     Non-Null Count  Dtype  \n",
      "---  ------                     --------------  -----  \n",
      " 0   projectid                  27 non-null     int64  \n",
      " 1   project                    27 non-null     object \n",
      " 2   studyid                    27 non-null     int64  \n",
      " 3   environmentName            27 non-null     object \n",
      " 4   subjectId                  27 non-null     int64  \n",
      " 5   StudySiteId                27 non-null     int64  \n",
      " 6   Subject                    27 non-null     object \n",
      " 7   siteid                     27 non-null     int64  \n",
      " 8   Site                       27 non-null     object \n",
      " 9   SiteNumber                 27 non-null     int64  \n",
      " 10  SiteGroup                  27 non-null     object \n",
      " 11  instanceId                 27 non-null     int64  \n",
      " 12  InstanceName               27 non-null     object \n",
      " 13  InstanceRepeatNumber       27 non-null     int64  \n",
      " 14  folderid                   27 non-null     int64  \n",
      " 15  Folder                     27 non-null     object \n",
      " 16  FolderName                 27 non-null     object \n",
      " 17  FolderSeq                  27 non-null     int64  \n",
      " 18  TargetDays                 0 non-null      float64\n",
      " 19  DataPageId                 27 non-null     int64  \n",
      " 20  DataPageName               27 non-null     object \n",
      " 21  PageRepeatNumber           27 non-null     int64  \n",
      " 22  RecordDate                 0 non-null      float64\n",
      " 23  RecordId                   27 non-null     int64  \n",
      " 24  RecordPosition             27 non-null     int64  \n",
      " 25  MinCreated                 27 non-null     object \n",
      " 26  MaxUpdated                 27 non-null     object \n",
      " 27  SaveTS                     27 non-null     object \n",
      " 28  StudyEnvSiteNumber         27 non-null     int64  \n",
      " 29  CMTRT                      27 non-null     object \n",
      " 30  CMTRT_ATC                  18 non-null     object \n",
      " 31  CMTRT_ATC_CODE             18 non-null     object \n",
      " 32  CMTRT_ATC2                 18 non-null     object \n",
      " 33  CMTRT_ATC2_CODE            18 non-null     object \n",
      " 34  CMTRT_ATC3                 18 non-null     object \n",
      " 35  CMTRT_ATC3_CODE            18 non-null     object \n",
      " 36  CMTRT_ATC4                 18 non-null     object \n",
      " 37  CMTRT_ATC4_CODE            18 non-null     object \n",
      " 38  CMTRT_CoderDictName        18 non-null     object \n",
      " 39  CMTRT_CoderDictVersion     18 non-null     float64\n",
      " 40  CMTRT_INGREDIENT           0 non-null      float64\n",
      " 41  CMTRT_INGREDIENT_CODE      0 non-null      float64\n",
      " 42  CMTRT_PRODUCT              18 non-null     object \n",
      " 43  CMTRT_PRODUCT_CODE         18 non-null     object \n",
      " 44  CMTRT_PRODUCTSYNONYM       4 non-null      object \n",
      " 45  CMTRT_PRODUCTSYNONYM_CODE  4 non-null      object \n",
      " 46  CMINGRD                    1 non-null      object \n",
      " 47  CMINDC                     24 non-null     object \n",
      " 48  CMDSTXT                    13 non-null     float64\n",
      " 49  CMDOSU                     13 non-null     object \n",
      " 50  CMDOSU_STD                 13 non-null     object \n",
      " 51  CMUNTOTH                   0 non-null      float64\n",
      " 52  CMDOSFRQ                   12 non-null     object \n",
      " 53  CMDOSFRQ_STD               12 non-null     object \n",
      " 54  CMFREOTH                   4 non-null      object \n",
      " 55  CMROUTE                    11 non-null     object \n",
      " 56  CMROUTE_STD                11 non-null     object \n",
      " 57  CMRTOTH                    0 non-null      float64\n",
      " 58  CMSTDAT                    24 non-null     object \n",
      " 59  CMSTDAT_RAW                26 non-null     object \n",
      " 60  CMSTDAT_INT                26 non-null     object \n",
      " 61  CMSTDAT_YYYY               26 non-null     float64\n",
      " 62  CMSTDAT_MM                 26 non-null     float64\n",
      " 63  CMSTDAT_DD                 24 non-null     float64\n",
      " 64  CMONGO                     27 non-null     int64  \n",
      " 65  CMONGO_RAW                 27 non-null     int64  \n",
      " 66  CMENDAT                    11 non-null     object \n",
      " 67  CMENDAT_RAW                11 non-null     object \n",
      " 68  CMENDAT_INT                11 non-null     object \n",
      " 69  CMENDAT_YYYY               11 non-null     float64\n",
      " 70  CMENDAT_MM                 11 non-null     float64\n",
      " 71  CMENDAT_DD                 11 non-null     float64\n",
      " 72  CMSTMONYR                  0 non-null      float64\n",
      " 73  CMSTMONYR_RAW              26 non-null     object \n",
      " 74  CMSTMONYR_INT              26 non-null     object \n",
      " 75  CMSTMONYR_YYYY             26 non-null     float64\n",
      " 76  CMSTMONYR_MM               26 non-null     float64\n",
      " 77  CMSTMONYR_DD               0 non-null      float64\n",
      " 78  CMSTYR                     0 non-null      float64\n",
      " 79  CMSTYR_RAW                 26 non-null     float64\n",
      " 80  CMSTYR_INT                 26 non-null     object \n",
      " 81  CMSTYR_YYYY                26 non-null     float64\n",
      " 82  CMSTYR_MM                  0 non-null      float64\n",
      " 83  CMSTYR_DD                  0 non-null      float64\n",
      " 84  CMENMONYR                  0 non-null      float64\n",
      " 85  CMENMONYR_RAW              11 non-null     object \n",
      " 86  CMENMONYR_INT              11 non-null     object \n",
      " 87  CMENMONYR_YYYY             11 non-null     float64\n",
      " 88  CMENMONYR_MM               11 non-null     float64\n",
      " 89  CMENMONYR_DD               0 non-null      float64\n",
      " 90  CMENYR                     0 non-null      float64\n",
      " 91  CMENYR_RAW                 11 non-null     float64\n",
      " 92  CMENYR_INT                 11 non-null     object \n",
      " 93  CMENYR_YYYY                11 non-null     float64\n",
      " 94  CMENYR_MM                  0 non-null      float64\n",
      " 95  CMENYR_DD                  0 non-null      float64\n",
      "dtypes: float64(32), int64(17), object(47)\n",
      "memory usage: 20.4+ KB\n"
     ]
    }
   ],
   "source": [
    "df2.info()\n"
   ]
  },
  {
   "cell_type": "code",
   "execution_count": 6,
   "metadata": {
    "colab": {
     "base_uri": "https://localhost:8080/"
    },
    "id": "TEhmPHiHHH88",
    "outputId": "e10ad124-e4a7-4a57-ab74-5840f39856f4"
   },
   "outputs": [
    {
     "data": {
      "text/plain": [
       "array(['9995-001', '9995-010', '9995-011', '9995-013', '9995-901',\n",
       "       '9995-020', '9995-002', '9995-905', '9995-910', '9995-004',\n",
       "       '9995-902', '9995-909', '9995-012', '9995-030', '9995-031',\n",
       "       '9995-904', '9995-906', '9995-907', '9995-908', '9995-014',\n",
       "       '9995-050'], dtype=object)"
      ]
     },
     "execution_count": 6,
     "metadata": {},
     "output_type": "execute_result"
    }
   ],
   "source": [
    "#fitering\n",
    "unique=df1.Subject.unique()\n",
    "unique\n"
   ]
  },
  {
   "cell_type": "code",
   "execution_count": 16,
   "metadata": {
    "id": "euXenmWDIELy"
   },
   "outputs": [],
   "source": [
    "for i in range(len(unique)):\n",
    "  ae=df1.loc[df1['Subject']==unique[i]]\n",
    "  cm=df2.loc[df2['Subject']==unique[i]]\n",
    "  aeindex=[x for x in range(len(ae))]\n",
    "  ae=ae.reindex(aeindex)\n",
    "  for j in range(len(ae)):\n",
    "    if (ae['AECONTRT'][j]=='Yes'):\n",
    "      ae_disease=ae.AETERM.unique()\n",
    "      cm_disease=cm.CMINDC.unique()\n",
    "      if ae_disease==cm_disease:\n",
    "        if cm['CMENDAT']!=np.nan:\n",
    "          ae['AESTDAT'] = pd.to_datetime(ae['AESTDAT'], format='%y%m%d')\n",
    "          cm['CMSTDAT'] = pd.to_datetime(cm['CMSTDAT'], format='%y%m%d')\n",
    "          if cm['CMSTDAT'] < ae['AESTDAT']: \n",
    "            result_datframe=ae.merge(cm, on='Subject')\n",
    "            pd.DataFrame(result_dataframe) \n",
    "            ae_dataframe.to_csv('C:Users/archana.regukumar/downloads'+\".csv\")\n",
    "        \n",
    "            \n",
    "\n",
    "           \n",
    "\n",
    " \n"
   ]
  }
 ],
 "metadata": {
  "colab": {
   "name": "Task_2.ipynb",
   "provenance": []
  },
  "kernelspec": {
   "display_name": "Python 3",
   "language": "python",
   "name": "python3"
  },
  "language_info": {
   "codemirror_mode": {
    "name": "ipython",
    "version": 3
   },
   "file_extension": ".py",
   "mimetype": "text/x-python",
   "name": "python",
   "nbconvert_exporter": "python",
   "pygments_lexer": "ipython3",
   "version": "3.8.8"
  }
 },
 "nbformat": 4,
 "nbformat_minor": 1
}
